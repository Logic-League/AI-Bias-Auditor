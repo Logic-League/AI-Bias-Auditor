# ===============================
# Full Bias Audit Notebook Script
# ===============================
# Paste this whole block into a Colab cell and run.

# 0) Imports
import os
import pandas as pd
import numpy as np
import matplotlib.pyplot as plt
import seaborn as sns
from textwrap import dedent
from google.colab import drive
from datetime import datetime

sns.set(style="whitegrid", rc={"figure.dpi": 120})

# 1) Mount Google Drive (will prompt for auth)
drive.mount('/content/drive')

# 2) Setup folder & sample dataset creation if missing
FOLDER_PATH = '/content/drive/MyDrive/Colab_Models'
os.makedirs(FOLDER_PATH, exist_ok=True)
DATA_FILENAME = 'bias_audit.xlsx'
FULL_PATH = os.path.join(FOLDER_PATH, DATA_FILENAME)

# If user doesn't have a dataset, create a realistic sample dataset
if not os.path.exists(FULL_PATH):
    print("No dataset found. Creating a sample bias_audit.xlsx in your Drive...")
    rng = np.random.default_rng(42)
    n = 200
    genders = rng.choice(['Male','Female','Non-binary'], size=n, p=[0.45,0.45,0.10])
    ages = rng.integers(18,70,size=n)
    # Simulate predictions with slight bias: females slightly less likely to get Positive
    logits = (ages - ages.mean())*0.02 + (genders == 'Male')*0.1 + rng.normal(0, 0.5, size=n)
    probs = 1 / (1 + np.exp(-logits))
    predictions = np.where(probs > 0.55, 'Positive', np.where(probs < 0.45, 'Negative', 'Neutral'))
    # True labels (for equalized odds) — make them moderately correlated with predictions but not identical
    true_logits = (ages - ages.mean())*0.01 + rng.normal(0,0.6,size=n)
    true_probs = 1 / (1 + np.exp(-true_logits))
    true_labels = np.where(true_probs > 0.5, 'Positive', 'Negative')
    df_sample = pd.DataFrame({
        'ID': np.arange(1, n+1),
        'Gender': genders,
        'Age': ages,
        'Prediction': predictions,
        'True_Label': true_labels
    })
    df_sample.to_excel(FULL_PATH, index=False)
    print(f"Sample dataset created: {FULL_PATH}")

# 3) Load dataset
print("\nLoading dataset...")
df = pd.read_excel(FULL_PATH)
print("Dataset preview:")
display(df.head())
print("\nDataset info:")
print(df.info())
print("\nMissing values per column:")
print(df.isna().sum())

# 4) Settings: define sensitive features & outcome
# You can edit these variables directly if needed
sensitive_cols = ['Gender', 'Age']  # Age will be bucketed; Gender kept as categorical
outcome_col = 'Prediction'
true_label_col = 'True_Label'  # set to None if you don't have true labels

# 5) Preprocess: bucket Age into categories if present and requested
if 'Age' in df.columns and 'Age' in sensitive_cols:
    # create AgeGroup for fairness groupings
    bins = [0, 25, 35, 50, 200]
    labels = ['18-25', '26-35', '36-50', '51+']
    df['AgeGroup'] = pd.cut(df['Age'], bins=bins, labels=labels, right=True)
    # Replace Age in sensitive_cols list with AgeGroup for grouping
    sensitive_cols = ['Gender'] + [c for c in sensitive_cols if c != 'Age']  # remove raw Age
    sensitive_cols.append('AgeGroup')

print("\nFinal sensitive features examined:", sensitive_cols)

# 6) Helper functions
def group_proportions(df, sensitive_col, outcome_col):
    grouped = df.groupby(sensitive_col)[outcome_col].value_counts(normalize=True).unstack().fillna(0)
    # Reorder outcome columns so Positive, Neutral, Negative if present
    cols = [c for c in ['Positive','Neutral','Negative'] if c in grouped.columns]
    grouped = grouped[cols]
    return grouped

def demographic_parity_ratio(grouped, ref_group=None, target='Positive'):
    # By default, use majority group as reference (highest positive)
    if target not in grouped.columns:
        return None, None
    # choose reference = group with max positive if not provided
    if ref_group is None:
        ref_group = grouped[target].idxmax()
    # choose minority = group with min positive (but not equal to ref)
    minority_group = grouped[target].idxmin()
    ratio = grouped.loc[minority_group, target] / max(grouped.loc[ref_group, target], 1e-9)
    return ratio, (ref_group, minority_group)

def equalized_odds(df, sensitive_col, outcome_col, true_label_col):
    # Returns {group: {FPR: x, FNR: y}}
    results = {}
    if true_label_col not in df.columns:
        return None
    for grp in df[sensitive_col].dropna().unique():
        grp_df = df[df[sensitive_col] == grp]
        # False positive rate = FP / (FP + TN) — where true label is Negative but predicted Positive
        neg_mask = grp_df[true_label_col] == 'Negative'
        pos_mask = grp_df[true_label_col] == 'Positive'
        FP = ((grp_df[outcome_col] == 'Positive') & (grp_df[true_label_col] == 'Negative')).sum()
        TN = ((grp_df[outcome_col] != 'Positive') & (grp_df[true_label_col] == 'Negative')).sum()
        FN = ((grp_df[outcome_col] != 'Positive') & (grp_df[true_label_col] == 'Positive')).sum()
        TP = ((grp_df[outcome_col] == 'Positive') & (grp_df[true_label_col] == 'Positive')).sum()
        FPR = FP / (FP + TN) if (FP + TN) > 0 else np.nan
        FNR = FN / (FN + TP) if (FN + TP) > 0 else np.nan
        results[grp] = {'False_Positive_Rate': float(FPR) if not np.isnan(FPR) else None,
                        'False_Negative_Rate': float(FNR) if not np.isnan(FNR) else None,
                        'Support': int(len(grp_df))}
    return results

# 7) Run analysis and save charts + collect report rows
report_rows = []
charts_saved = []
timestamp = datetime.now().strftime("%Y%m%d_%H%M%S")
for col in sensitive_cols:
    if col not in df.columns:
        print(f"Skipping {col} — column not present.")
        continue
    print(f"\n=== ANALYSIS: {col} ===")
    gp = group_proportions(df, col, outcome_col)
    gp_sorted = gp.sort_values(by='Positive', ascending=False) if 'Positive' in gp.columns else gp
    display(gp_sorted)
    
    # Demographic Parity
    dp_ratio, groups = demographic_parity_ratio(gp_sorted) if 'Positive' in gp_sorted.columns else (None, None)
    if dp_ratio is not None:
        print(f"Demographic parity ratio (min/major): {dp_ratio:.3f} between groups {groups[1]} and {groups[0]}")
    else:
        print("Demographic parity ratio could not be computed (no 'Positive' column).")
    
    # Equalized odds
    eo = equalized_odds(df, col, outcome_col, true_label_col) if true_label_col in df.columns else None
    if eo:
        print("Equalized odds (FPR, FNR, Support) per group:")
        for k,v in eo.items():
            print(f"  {k}: FPR={v['False_Positive_Rate']}, FNR={v['False_Negative_Rate']}, N={v['Support']}")
    else:
        print("Equalized odds not computed (no true labels).")
    
    # Visualization: stacked bar for Positive/Neutral/Negative proportions
    plot_df = gp_sorted.reset_index().melt(id_vars=col, var_name='Outcome', value_name='Proportion')
    plt.figure(figsize=(8,4))
    sns.barplot(data=plot_df[plot_df['Outcome']=='Positive'], x=col, y='Proportion')
    plt.title(f'Positive Prediction Proportion by {col}')
    plt.xticks(rotation=45)
    chart_path_pos = os.path.join(FOLDER_PATH, f'{timestamp}_{col}_positive.png')
    plt.tight_layout()
    plt.savefig(chart_path_pos)
    plt.close()
    charts_saved.append(chart_path_pos)
    
    # Additionally save stacked proportional bar chart for clearer view
    fig, ax = plt.subplots(figsize=(9,5))
    gp_sorted.plot(kind='bar', stacked=True, ax=ax)
    ax.set_title(f'Prediction distribution by {col}')
    ax.set_ylabel('Proportion')
    plt.xticks(rotation=45)
    stacked_chart_path = os.path.join(FOLDER_PATH, f'{timestamp}_{col}_stacked.png')
    plt.tight_layout()
    fig.savefig(stacked_chart_path)
    plt.close(fig)
    charts_saved.append(stacked_chart_path)
    
    # Append to report rows
    for grp in gp_sorted.index:
        row = {
            'Sensitive_Feature': col,
            'Group': grp,
            'Positive_Proportion': float(gp_sorted.loc[grp].get('Positive', 0)),
            'Neutral_Proportion': float(gp_sorted.loc[grp].get('Neutral', 0)),
            'Negative_Proportion': float(gp_sorted.loc[grp].get('Negative', 0)),
            'Demographic_Parity_Ratio': float(dp_ratio) if dp_ratio is not None else None,
            'Stacked_Chart': stacked_chart_path,
            'Positive_Chart': chart_path_pos,
            'Equalized_Odds': eo.get(grp) if eo else None
        }
        report_rows.append(row)

print("\nCharts saved to Drive:")
for c in charts_saved:
    print("  -", c)

# 8) Build a full report DataFrame and save to Excel
report_df = pd.DataFrame(report_rows)
report_file = os.path.join(FOLDER_PATH, f'bias_audit_report_{timestamp}.xlsx')
report_df.to_excel(report_file, index=False)
print(f"\n✅ Full report saved to: {report_file}")

# 9) Findings summary (auto-generated)
print("\n\n============= FINDINGS SUMMARY =============")
summary_lines = []

# Highlight under/over-served groups by Positive proportion
for col in sensitive_cols:
    if col not in df.columns and col != 'AgeGroup':
        continue
    gp = group_proportions(df, col, outcome_col)
    if 'Positive' not in gp.columns:
        continue
    gp_sorted = gp.sort_values(by='Positive', ascending=False)
    best = gp_sorted['Positive'].idxmax()
    worst = gp_sorted['Positive'].idxmin()
    best_val = gp_sorted['Positive'].max()
    worst_val = gp_sorted['Positive'].min()
    summary_lines.append(f"For **{col}**, group **{best}** has the highest Positive rate ({best_val:.2f}) and group **{worst}** has the lowest ({worst_val:.2f}).")
    # add dp insight
    dp_ratio, groups = demographic_parity_ratio(gp_sorted)
    if dp_ratio is not None:
        summary_lines.append(f"  - Demographic parity ratio (min/major) = {dp_ratio:.2f} (min={groups[1]}, major={groups[0]}).")

# Add equalized odds insight
if true_label_col in df.columns:
    eo_all = {}
    for col in sensitive_cols:
        eo = equalized_odds(df, col, outcome_col, true_label_col)
        if eo:
            eo_all[col] = eo
    if eo_all:
        summary_lines.append("Equalized odds (FPR/FNR) computed per group. Review the report for numeric values and groups with highest disparity.")

# Print summary
for line in summary_lines:
    print(line)

print("\nIf you need a plain-language executive summary or a downloadable PDF report with embedded charts, say 'make PDF report' and I'll produce it next.")
print("============================================\n")
